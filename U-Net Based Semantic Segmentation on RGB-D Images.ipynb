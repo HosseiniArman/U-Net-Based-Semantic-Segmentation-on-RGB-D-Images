{
 "cells": [
  {
   "cell_type": "code",
   "execution_count": null,
   "metadata": {
    "id": "0exJ9KsDrwck"
   },
   "outputs": [],
   "source": [
    "import tensorflow as tf\n",
    "import numpy as np\n",
    "\n",
    "from tensorflow.keras.layers import Input\n",
    "from tensorflow.keras.layers import Conv2D\n",
    "from tensorflow.keras.layers import MaxPooling2D\n",
    "from tensorflow.keras.layers import Dropout \n",
    "from tensorflow.keras.layers import Conv2DTranspose\n",
    "from tensorflow.keras.layers import concatenate\n",
    "\n",
    "from test_utils import summary, comparator"
   ]
  },
  {
   "cell_type": "code",
   "execution_count": null,
   "metadata": {
    "id": "FWpkuq4tfU4i"
   },
   "outputs": [],
   "source": [
    "import os\n",
    "import numpy as np # linear algebra\n",
    "import pandas as pd # data processing, CSV file I/O (e.g. pd.read_csv)\n",
    "\n",
    "import imageio\n",
    "\n",
    "import matplotlib.pyplot as plt\n",
    "%matplotlib inline\n",
    "\n",
    "# Set up paths\n",
    "path = ''\n",
    "image_path = os.path.join(path, './data/CameraRGB/')\n",
    "mask_path = os.path.join(path, './data/CameraMask/')\n",
    "image_list = [os.path.join(image_path, img) for img in os.listdir(image_path)]\n",
    "mask_list = [os.path.join(mask_path, img) for img in os.listdir(mask_path)]"
   ]
  },
  {
   "cell_type": "code",
   "execution_count": null,
   "metadata": {
    "colab": {
     "base_uri": "https://localhost:8080/",
     "height": 347
    },
    "id": "RZhnXflBl6Xm",
    "outputId": "dcdd7563-53b9-4ce3-f400-e011f4df9cdc"
   },
   "outputs": [],
   "source": [
    "# Display example image and mask\n",
    "N = 2\n",
    "img = imageio.imread(image_list[N])\n",
    "mask = imageio.imread(mask_list[N])\n",
    "fig, arr = plt.subplots(1, 2, figsize=(14, 10))\n",
    "arr[0].imshow(img)\n",
    "arr[0].set_title('Image')\n",
    "arr[1].imshow(mask[:, :, 0])\n",
    "arr[1].set_title('Segmentation')\n",
    "plt.show()"
   ]
  },
  {
   "cell_type": "code",
   "execution_count": null,
   "metadata": {
    "colab": {
     "base_uri": "https://localhost:8080/"
    },
    "id": "FlzMS0mhmkb1",
    "outputId": "e2ad8c66-c380-400f-aed0-9f4b1f53ecad"
   },
   "outputs": [],
   "source": [
    "image_list_ds = tf.data.Dataset.list_files(image_list, shuffle=False)\n",
    "mask_list_ds = tf.data.Dataset.list_files(mask_list, shuffle=False)\n",
    "\n",
    "for path in zip(image_list_ds.take(3), mask_list_ds.take(3)):\n",
    "    print(path)"
   ]
  },
  {
   "cell_type": "code",
   "execution_count": null,
   "metadata": {
    "colab": {
     "base_uri": "https://localhost:8080/"
    },
    "id": "aNF2Ztii8-Jx",
    "outputId": "7e91a651-a54c-4838-e1db-41ef4915680e"
   },
   "outputs": [],
   "source": [
    "image_filenames = tf.constant(image_list)\n",
    "masks_filenames = tf.constant(mask_list)\n",
    "\n",
    "dataset = tf.data.Dataset.from_tensor_slices((image_filenames, masks_filenames))\n",
    "\n",
    "for image, mask in dataset.take(1):\n",
    "    print(image)\n",
    "    print(mask)"
   ]
  },
  {
   "cell_type": "code",
   "execution_count": null,
   "metadata": {
    "id": "NUjQfI1wmkkn"
   },
   "outputs": [],
   "source": [
    "def process_path(image_path, mask_path):\n",
    "    img = tf.io.read_file(image_path)\n",
    "    img = tf.image.decode_png(img, channels=3)\n",
    "    img = tf.image.convert_image_dtype(img, tf.float32)\n",
    "    mask = tf.io.read_file(mask_path)\n",
    "    mask = tf.image.decode_png(mask, channels=3)\n",
    "    mask = tf.math.reduce_max(mask, axis=-1, keepdims=True)\n",
    "    return img, mask\n",
    "\n",
    "def preprocess(image, mask):\n",
    "    input_image = tf.image.resize(image, (96, 128), method='nearest')\n",
    "    input_mask = tf.image.resize(mask, (96, 128), method='nearest')\n",
    "    return input_image, input_mask\n",
    "\n",
    "image_ds = dataset.map(process_path)\n",
    "processed_image_ds = image_ds.map(preprocess)"
   ]
  },
  {
   "cell_type": "code",
   "execution_count": null,
   "metadata": {
    "id": "_jREFwsA5w6j",
    "nbgrader": {
     "grade": false,
     "grade_id": "cell-5bc67a8f4f19dea5",
     "locked": false,
     "schema_version": 3,
     "solution": true,
     "task": false
    }
   },
   "outputs": [],
   "source": [
    "# Convolutional Downsampling Block\n",
    "def conv_block(inputs, n_filters=32, dropout_prob=0, max_pooling=True):\n",
    "    conv = Conv2D(n_filters, 3, activation='relu', padding='same', kernel_initializer='he_normal')(inputs)\n",
    "    conv = Conv2D(n_filters, 3, activation='relu', padding='same', kernel_initializer='he_normal')(conv)\n",
    "    if dropout_prob > 0:\n",
    "        conv = Dropout(dropout_prob)(conv)\n",
    "    if max_pooling:\n",
    "        next_layer = MaxPooling2D(pool_size=2)(conv)\n",
    "    else:\n",
    "        next_layer = conv\n",
    "    skip_connection = conv\n",
    "    return next_layer, skip_connection\n",
    "\n",
    "# Test Convolutional Block\n",
    "input_size = (96, 128, 3)\n",
    "n_filters = 32\n",
    "inputs = Input(input_size)\n",
    "cblock1 = conv_block(inputs, n_filters * 1)\n",
    "model1 = Model(inputs=inputs, outputs=cblock1)"
   ]
  },
  {
   "cell_type": "code",
   "execution_count": null,
   "metadata": {
    "id": "9lzEn-mu6nHa",
    "nbgrader": {
     "grade": false,
     "grade_id": "cell-4a6bea191d41d977",
     "locked": false,
     "schema_version": 3,
     "solution": true,
     "task": false
    }
   },
   "outputs": [],
   "source": [
    "# Convolutional Upsampling Block\n",
    "def upsampling_block(expansive_input, contractive_input, n_filters=32):\n",
    "    up = Conv2DTranspose(n_filters, 3, strides=2, padding='same')(expansive_input)\n",
    "    merge = concatenate([up, contractive_input], axis=3)\n",
    "    conv = Conv2D(n_filters, 3, activation='relu', padding='same', kernel_initializer='he_normal')(merge)\n",
    "    conv = Conv2D(n_filters, 3, activation='relu', padding='same', kernel_initializer='he_normal')(conv)\n",
    "    return conv"
   ]
  },
  {
   "cell_type": "code",
   "execution_count": null,
   "metadata": {
    "nbgrader": {
     "grade": true,
     "grade_id": "cell-10e351ce736f2727",
     "locked": true,
     "points": 10,
     "schema_version": 3,
     "solution": false,
     "task": false
    }
   },
   "outputs": [],
   "source": [
    "input_size1=(12, 16, 256)\n",
    "input_size2 = (24, 32, 128)\n",
    "n_filters = 32\n",
    "expansive_inputs = Input(input_size1)\n",
    "contractive_inputs =  Input(input_size2)\n",
    "cblock1 = upsampling_block(expansive_inputs, contractive_inputs, n_filters * 1)\n",
    "model1 = tf.keras.Model(inputs=[expansive_inputs, contractive_inputs], outputs=cblock1)\n",
    "\n",
    "output1 = [['InputLayer', [(None, 12, 16, 256)], 0],\n",
    "            ['Conv2DTranspose', (None, 24, 32, 32), 73760],\n",
    "            ['InputLayer', [(None, 24, 32, 128)], 0],\n",
    "            ['Concatenate', (None, 24, 32, 160), 0],\n",
    "            ['Conv2D', (None, 24, 32, 32), 46112, 'same', 'relu', 'HeNormal'],\n",
    "            ['Conv2D', (None, 24, 32, 32), 9248, 'same', 'relu', 'HeNormal']]\n",
    "\n",
    "print('Block 1:')\n",
    "for layer in summary(model1):\n",
    "    print(layer)\n",
    "\n",
    "comparator(summary(model1), output1)"
   ]
  },
  {
   "cell_type": "code",
   "execution_count": null,
   "metadata": {
    "id": "Sv2UCFehHZsh",
    "nbgrader": {
     "grade": false,
     "grade_id": "cell-e43cf8104499fbd9",
     "locked": false,
     "schema_version": 3,
     "solution": true,
     "task": false
    }
   },
   "outputs": [],
   "source": [
    "# UNet Model\n",
    "def unet_model(input_size=(96, 128, 3), n_filters=32, n_classes=23):\n",
    "    inputs = Input(input_size)\n",
    "    cblock1 = conv_block(inputs=inputs, n_filters=n_filters)\n",
    "    cblock2 = conv_block(cblock1[0], n_filters=2*n_filters)\n",
    "    cblock3 = conv_block(cblock2[0], n_filters=4*n_filters)\n",
    "    cblock4 = conv_block(cblock3[0], n_filters=8*n_filters, dropout_prob=0.3)\n",
    "    cblock5 = conv_block(cblock4[0], n_filters=16*n_filters, dropout_prob=0.3, max_pooling=False)\n",
    "    ublock6 = upsampling_block(cblock5[0], cblock4[1], n_filters * 8)\n",
    "    ublock7 = upsampling_block(ublock6, cblock3[1], n_filters * 4)\n",
    "    ublock8 = upsampling_block(ublock7, cblock2[1], n_filters * 2)\n",
    "    ublock9 = upsampling_block(ublock8, cblock1[1], n_filters)\n",
    "    conv9 = Conv2D(n_filters, 3, activation='relu', padding='same', kernel_initializer='he_normal')(ublock9)\n",
    "    conv10 = Conv2D(n_classes, 1, padding='same')(conv9)\n",
    "    model = Model(inputs=inputs, outputs=conv10)\n",
    "    return model"
   ]
  },
  {
   "cell_type": "code",
   "execution_count": null,
   "metadata": {
    "nbgrader": {
     "grade": true,
     "grade_id": "cell-16d8e2fe99b33552",
     "locked": true,
     "points": 10,
     "schema_version": 3,
     "solution": false,
     "task": false
    }
   },
   "outputs": [],
   "source": [
    "# Initialize and compile model\n",
    "img_height, img_width, num_channels = 96, 128, 3\n",
    "unet = unet_model((img_height, img_width, num_channels))\n",
    "unet.compile(optimizer='adam', loss=tf.keras.losses.SparseCategoricalCrossentropy(from_logits=True), metrics=['accuracy'])"
   ]
  },
  {
   "cell_type": "code",
   "execution_count": null,
   "metadata": {
    "id": "jCQIwZlnsDTQ"
   },
   "outputs": [],
   "source": [
    "img_height = 96\n",
    "img_width = 128\n",
    "num_channels = 3\n",
    "\n",
    "unet = unet_model((img_height, img_width, num_channels))"
   ]
  },
  {
   "cell_type": "code",
   "execution_count": null,
   "metadata": {
    "id": "mSuxeWlSgU5f"
   },
   "outputs": [],
   "source": [
    "# Display function for images and masks\n",
    "def display(display_list):\n",
    "    plt.figure(figsize=(15, 15))\n",
    "    title = ['Input Image', 'True Mask', 'Predicted Mask']\n",
    "    for i in range(len(display_list)):\n",
    "        plt.subplot(1, len(display_list), i+1)\n",
    "        plt.title(title[i])\n",
    "        plt.imshow(tf.keras.preprocessing.image.array_to_img(display_list[i]))\n",
    "        plt.axis('off')\n",
    "    plt.show()"
   ]
  },
  {
   "cell_type": "code",
   "execution_count": null,
   "metadata": {
    "colab": {
     "base_uri": "https://localhost:8080/",
     "height": 350
    },
    "id": "xpFmVX5vgXRj",
    "outputId": "676f40ec-2c76-4fbe-8491-fd04c96c51d9"
   },
   "outputs": [],
   "source": [
    "for image, mask in image_ds.take(1):\n",
    "    sample_image, sample_mask = image, mask\n",
    "    print(mask.shape)\n",
    "display([sample_image, sample_mask])"
   ]
  },
  {
   "cell_type": "code",
   "execution_count": null,
   "metadata": {
    "colab": {
     "base_uri": "https://localhost:8080/",
     "height": 350
    },
    "id": "cqON4c2UGgC4",
    "outputId": "43f3503e-2b8c-4f42-cda0-76c46ada9c13"
   },
   "outputs": [],
   "source": [
    "for image, mask in processed_image_ds.take(1):\n",
    "    sample_image, sample_mask = image, mask\n",
    "    print(mask.shape)\n",
    "display([sample_image, sample_mask])"
   ]
  },
  {
   "cell_type": "code",
   "execution_count": null,
   "metadata": {
    "colab": {
     "base_uri": "https://localhost:8080/"
    },
    "id": "1Ne0IowRgcom",
    "outputId": "0e68b994-2a09-4cd8-b0d7-c0d042d81144"
   },
   "outputs": [],
   "source": [
    "EPOCHS = 5\n",
    "VAL_SUBSPLITS = 5\n",
    "BUFFER_SIZE = 500\n",
    "BATCH_SIZE = 32\n",
    "train_dataset = processed_image_ds.cache().shuffle(BUFFER_SIZE).batch(BATCH_SIZE)\n",
    "print(processed_image_ds.element_spec)\n",
    "model_history = unet.fit(train_dataset, epochs=EPOCHS)"
   ]
  },
  {
   "cell_type": "code",
   "execution_count": null,
   "metadata": {
    "id": "AvFEnJrHhmJo"
   },
   "outputs": [],
   "source": [
    "# Show sample predictions\n",
    "def create_mask(pred_mask):\n",
    "    pred_mask = tf.argmax(pred_mask, axis=-1)\n",
    "    pred_mask = pred_mask[..., tf.newaxis]\n",
    "    return pred_mask[0]"
   ]
  },
  {
   "cell_type": "code",
   "execution_count": null,
   "metadata": {
    "colab": {
     "base_uri": "https://localhost:8080/",
     "height": 282
    },
    "id": "PqCzmTmnl1lI",
    "outputId": "f79baa53-3c7b-4161-e680-2279a3b4d7fb"
   },
   "outputs": [],
   "source": [
    "plt.plot(model_history.history[\"accuracy\"])"
   ]
  },
  {
   "cell_type": "code",
   "execution_count": null,
   "metadata": {
    "id": "BX4uCaP2glMo"
   },
   "outputs": [],
   "source": [
    "def show_predictions(dataset=None, num=1):\n",
    "    if dataset:\n",
    "        for image, mask in dataset.take(num):\n",
    "            pred_mask = unet.predict(image)\n",
    "            display([image[0], mask[0], create_mask(pred_mask)])\n"
   ]
  },
  {
   "cell_type": "code",
   "execution_count": null,
   "metadata": {
    "colab": {
     "base_uri": "https://localhost:8080/",
     "height": 446
    },
    "id": "5qODM_hRhfR5",
    "outputId": "78a90e2a-d5aa-4c39-e591-9d78e9526404"
   },
   "outputs": [],
   "source": [
    "# Training\n",
    "EPOCHS = 5\n",
    "BUFFER_SIZE = 500\n",
    "BATCH_SIZE = 32\n",
    "train_dataset = processed_image_ds.cache().shuffle(BUFFER_SIZE).batch(BATCH_SIZE)\n",
    "model_history = unet.fit(train_dataset, epochs=EPOCHS)"
   ]
  },
  {
   "cell_type": "code",
   "execution_count": null,
   "metadata": {},
   "outputs": [],
   "source": [
    "# Plot accuracy over epochs\n",
    "plt.plot(model_history.history[\"accuracy\"])\n",
    "plt.xlabel(\"Epochs\")\n",
    "plt.ylabel(\"Accuracy\")\n",
    "plt.title(\"Model Accuracy over Epochs\")\n",
    "plt.show()\n",
    "\n",
    "# Visualize predictions\n",
    "show_predictions(train_dataset, 3)"
   ]
  }
 ],
 "metadata": {
  "kernelspec": {
   "display_name": "Python 3",
   "language": "python",
   "name": "python3"
  },
  "language_info": {
   "codemirror_mode": {
    "name": "ipython",
    "version": 3
   },
   "file_extension": ".py",
   "mimetype": "text/x-python",
   "name": "python",
   "nbconvert_exporter": "python",
   "pygments_lexer": "ipython3",
   "version": "3.8.10"
  }
 },
 "nbformat": 4,
 "nbformat_minor": 1
}
